{
 "cells": [
  {
   "cell_type": "code",
   "execution_count": null,
   "id": "292c2151",
   "metadata": {},
   "outputs": [],
   "source": [
    "\n"
   ]
  },
  {
   "cell_type": "code",
   "execution_count": 2,
   "id": "7014f929",
   "metadata": {},
   "outputs": [],
   "source": [
    "# === Librerías ===\n",
    "import os\n",
    "import numpy as np\n",
    "import pandas as pd\n",
    "import matplotlib.pyplot as plt\n",
    "import seaborn as sns\n",
    "from textwrap import dedent\n",
    "from IPython.display import display\n",
    "\n",
    "# === Configuración visual y pandas ===\n",
    "pd.set_option('display.max_columns', 120)\n",
    "pd.set_option('display.width', 180)\n",
    "pd.options.mode.chained_assignment = None \n",
    "\n",
    "sns.set(style=\"whitegrid\")\n",
    "plt.rcParams[\"figure.figsize\"] = (10, 5)\n",
    "\n",
    "# === Reproducibilidad ===\n",
    "SEED = 42\n",
    "np.random.seed(SEED)\n",
    "\n",
    "# === Utilidades ===\n",
    "def print_section(title):\n",
    "    print(\"\\n\" + \"=\"*len(title))\n",
    "    print(title)\n",
    "    print(\"=\"*len(title))\n",
    "\n",
    "def percent(x):\n",
    "    try:\n",
    "        return f\"{100*float(x):.2f}%\"\n",
    "    except:\n",
    "        return \"NA\"\n"
   ]
  },
  {
   "cell_type": "code",
   "execution_count": null,
   "id": "50839a6d",
   "metadata": {},
   "outputs": [],
   "source": []
  },
  {
   "cell_type": "code",
   "execution_count": 7,
   "id": "2bff62b0",
   "metadata": {},
   "outputs": [
    {
     "ename": "NameError",
     "evalue": "name 'Path' is not defined",
     "output_type": "error",
     "traceback": [
      "\u001b[31m---------------------------------------------------------------------------\u001b[39m",
      "\u001b[31mNameError\u001b[39m                                 Traceback (most recent call last)",
      "\u001b[36mCell\u001b[39m\u001b[36m \u001b[39m\u001b[32mIn[7]\u001b[39m\u001b[32m, line 2\u001b[39m\n\u001b[32m      1\u001b[39m \u001b[38;5;66;03m# rutas\u001b[39;00m\n\u001b[32m----> \u001b[39m\u001b[32m2\u001b[39m ROOT = Path(\u001b[34m__file__\u001b[39m).resolve().parents[\u001b[32m1\u001b[39m] \u001b[38;5;28;01mif\u001b[39;00m \u001b[33m\"\u001b[39m\u001b[33m__file__\u001b[39m\u001b[33m\"\u001b[39m \u001b[38;5;129;01min\u001b[39;00m \u001b[38;5;28mglobals\u001b[39m() \u001b[38;5;28;01melse\u001b[39;00m \u001b[43mPath\u001b[49m.cwd().parents[\u001b[32m0\u001b[39m]\n\u001b[32m      3\u001b[39m DATA_CLEAN = ROOT / \u001b[33m\"\u001b[39m\u001b[33mT3_preparacion\u001b[39m\u001b[33m\"\u001b[39m / \u001b[33m\"\u001b[39m\u001b[33mincidents_clean_for_model.csv\u001b[39m\u001b[33m\"\u001b[39m\n\u001b[32m      4\u001b[39m FIGS = Path.cwd() / \u001b[33m\"\u001b[39m\u001b[33mfigs\u001b[39m\u001b[33m\"\u001b[39m\n",
      "\u001b[31mNameError\u001b[39m: name 'Path' is not defined"
     ]
    }
   ],
   "source": [
    "\n",
    "# rutas\n",
    "ROOT = Path(__file__).resolve().parents[1] if \"__file__\" in globals() else Path.cwd().parents[0]\n",
    "DATA_CLEAN = ROOT / \"T3_preparacion\" / \"incidents_clean_for_model.csv\"\n",
    "FIGS = Path.cwd() / \"figs\"\n",
    "FIGS.mkdir(exist_ok=True)\n",
    "\n",
    "pd.set_option(\"display.max_columns\", 100)\n"
   ]
  }
 ],
 "metadata": {
  "kernelspec": {
   "display_name": "Python 3",
   "language": "python",
   "name": "python3"
  },
  "language_info": {
   "codemirror_mode": {
    "name": "ipython",
    "version": 3
   },
   "file_extension": ".py",
   "mimetype": "text/x-python",
   "name": "python",
   "nbconvert_exporter": "python",
   "pygments_lexer": "ipython3",
   "version": "3.12.7"
  }
 },
 "nbformat": 4,
 "nbformat_minor": 5
}
